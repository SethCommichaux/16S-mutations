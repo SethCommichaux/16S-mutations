{
 "cells": [
  {
   "cell_type": "code",
   "execution_count": 93,
   "id": "6cb7f8ec",
   "metadata": {},
   "outputs": [],
   "source": [
    "import random\n",
    "import numpy as np\n",
    "import itertools\n",
    "from Bio import SeqIO\n",
    "from collections import defaultdict, Counter\n",
    "import matplotlib.pyplot as plt"
   ]
  },
  {
   "cell_type": "code",
   "execution_count": 158,
   "id": "dee20ac8",
   "metadata": {},
   "outputs": [],
   "source": [
    "# This function mutates num_mutations number of mutations to a diferent nucleotide in a given sequence\n",
    "\n",
    "def mutate_dna(dna_string, num_mutations):\n",
    "    dna_list = list(dna_string)\n",
    "    dna_length = len(dna_list)\n",
    "    if num_mutations > dna_length:\n",
    "        raise ValueError(\"Number of mutations cannot exceed the length of the DNA string.\")\n",
    "\n",
    "    mutation_indices = random.sample(range(dna_length), num_mutations)\n",
    "\n",
    "    for index in mutation_indices:\n",
    "        current_base = dna_list[index]\n",
    "        valid_bases = ['A', 'U', 'C', 'G']\n",
    "        if current_base not in valid_bases:\n",
    "            continue\n",
    "        else:\n",
    "            valid_bases.remove(current_base) # Ensure the new base is different.\n",
    "            new_base = random.choice(valid_bases)\n",
    "            dna_list[index] = new_base\n",
    "\n",
    "    return \"\".join(dna_list)  # Convert back to a string"
   ]
  },
  {
   "cell_type": "code",
   "execution_count": 103,
   "id": "9e2af392",
   "metadata": {},
   "outputs": [],
   "source": [
    "# Returns proportion of k-mers of interest that are found\n",
    "\n",
    "def proportion_kmers_present(seq,kmers):\n",
    "    present = 0\n",
    "    for k in kmers:\n",
    "        if k in seq:\n",
    "            present += 1\n",
    "    return present/len(kmers)"
   ]
  },
  {
   "cell_type": "code",
   "execution_count": 96,
   "id": "2c5b41d9",
   "metadata": {},
   "outputs": [],
   "source": [
    "def get_kmers(seq,klen,total_possible_kmers,possible_kmers):\n",
    "    kmer_counts = defaultdict(int)\n",
    "    for i in range(0,len(seq)+1-klen):\n",
    "        kmer = seq[i:i+klen]\n",
    "        kmer_counts[kmer] += 1\n",
    "    tmp = []\n",
    "    tmp2 = []\n",
    "    for k in possible_kmers:\n",
    "        freq = kmer_counts.get(k,0)/total_possible_kmers\n",
    "        tmp.append(str(freq))\n",
    "        tmp2.append(freq)\n",
    "    return '\\t'.join(tmp),np.array(tmp2)"
   ]
  },
  {
   "cell_type": "code",
   "execution_count": 88,
   "id": "4dd70340",
   "metadata": {},
   "outputs": [],
   "source": [
    "# returns the reverse complement of a sequence\n",
    "\n",
    "def revcomp(seq):\n",
    "    revcomp = ''\n",
    "    for i in seq[::-1]:\n",
    "        revcomp += {'A':'U','C':'G','G':'C','U':'A'}.get(i,i)\n",
    "    return revcomp"
   ]
  },
  {
   "cell_type": "code",
   "execution_count": 89,
   "id": "f191a05f",
   "metadata": {},
   "outputs": [],
   "source": [
    "# generates a random sequence weighted by the proportion of A's, C's, G's, and U's found in input sequence\n",
    "\n",
    "def random_seq_generator(seq):\n",
    "    Counts = Counter(seq)\n",
    "    L = len(seq)\n",
    "    A = Counts['A']/L\n",
    "    C = Counts['C']/L\n",
    "    G = Counts['G']/L\n",
    "    U = Counts['U']/L\n",
    "    return ''.join(random.choices(['A','C','G','U'], weights = [A,C,G,U], k = len(seq))),[str(A),str(C),str(G),str(U)]"
   ]
  },
  {
   "cell_type": "code",
   "execution_count": 90,
   "id": "b13d64bb",
   "metadata": {},
   "outputs": [],
   "source": [
    "f = 'SILVA_138.2_SSURef_NR99_tax_silva.fasta'"
   ]
  },
  {
   "cell_type": "code",
   "execution_count": 202,
   "id": "26e46cdc",
   "metadata": {},
   "outputs": [
    {
     "name": "stdout",
     "output_type": "stream",
     "text": [
      "100000\n",
      "k-mer length used for analysis: 11\n",
      "Observed frequency threshold: 0.5\n",
      "Sequences analyzed: 100000\n",
      "Total k-mers observed: 3095050\n",
      "Total k-mers possible: 4194304\n",
      "Number of biomarker k-mers identified: 319\n"
     ]
    }
   ],
   "source": [
    "## program finds k-mers with highest frequency in 16S sequences\n",
    "\n",
    "klen = 11\n",
    "Observation_frequency_threshold = 0.5\n",
    "\n",
    "kmer_counts = defaultdict(int)\n",
    "kmers_of_interest = set()\n",
    "total_seqs = 0\n",
    "\n",
    "for h,i in enumerate(SeqIO.parse(f,'fasta')):\n",
    "    id,d,s,L = str(i.id),str(i.description),str(i.seq).upper().replace('T','U'),len(i.seq)\n",
    "    if 'eukaryota' in d.lower(): continue\n",
    "    total_seqs += 1\n",
    "    kmers = set()\n",
    "    for i in range(0,len(s)+1-klen):\n",
    "        kmer = s[i:i+klen]\n",
    "        # rc_kmer = revcomp(kmer)\n",
    "        # canonical_kmer = min(kmer,rc_kmer)\n",
    "        kmers.add(kmer)\n",
    "    for k in kmers:\n",
    "        kmer_counts[k] += 1\n",
    "    print(total_seqs,end='\\r')\n",
    "    if total_seqs == 100000: break\n",
    "\n",
    "for k,v in sorted(kmer_counts.items(),key=lambda x:x[1]):\n",
    "    if v/total_seqs > Observation_frequency_threshold:\n",
    "        kmers_of_interest.add(k)\n",
    "        # print(k,v/total_seqs)\n",
    "\n",
    "print()\n",
    "print(f\"k-mer length used for analysis: {klen}\")\n",
    "print(f\"Observed frequency threshold: {Observation_frequency_threshold}\")\n",
    "print(f\"Sequences analyzed: {total_seqs}\")\n",
    "print(f\"Total k-mers observed: {len(kmer_counts)}\")\n",
    "print(f\"Total k-mers possible: {4**klen}\")\n",
    "print(f\"Number of biomarker k-mers identified: {len(kmers_of_interest)}\")"
   ]
  },
  {
   "cell_type": "code",
   "execution_count": 209,
   "id": "4a1aef20",
   "metadata": {},
   "outputs": [
    {
     "name": "stdout",
     "output_type": "stream",
     "text": [
      "Decision_Boundary Total_seqs Proportion_seq_mutate TP TN FP FN\n",
      "0.5 10000 1.0 9350 10000 0 650\n",
      "0.5 10000 0.9 9350 10000 0 650\n",
      "0.5 10000 0.8 9350 10000 0 650\n",
      "0.5 10000 0.7 9350 10000 0 650\n",
      "0.5 10000 0.6 9350 10000 0 650\n",
      "0.5 10000 0.5 9350 10000 0 650\n",
      "0.5 10000 0.4 9350 10000 0 650\n",
      "0.5 10000 0.3 9350 10000 0 650\n",
      "0.5 10000 0.2 9350 10000 0 650\n",
      "0.5 10000 0.1 9350 9999 1 650\n",
      "0.5 10000 0.01 9350 1107 8893 650\n"
     ]
    }
   ],
   "source": [
    "## program classifies 16S sequences as natural or modified by the presence of k-mers\n",
    "\n",
    "print(\"Decision_Boundary Total_seqs Proportion_seq_mutate TP TN FP FN\")\n",
    "\n",
    "for proportion_seq_mutate in [1.0,0.9,0.8,0.7,0.6,0.5,0.4,0.3,0.2,0.1,0.01]:\n",
    "    total_seqs = 0\n",
    "    Decision_Boundary = 0.5 \n",
    "    TP,TN,FP,FN = 0,0,0,0\n",
    "    \n",
    "    for h,i in enumerate(SeqIO.parse(f,'fasta')):\n",
    "        id,d,s,L = str(i.id),str(i.description),str(i.seq).upper().replace('T','U'),len(i.seq)\n",
    "        if 'eukaryota' in d.lower(): continue\n",
    "        total_seqs += 1\n",
    "        Counts = Counter(s)\n",
    "        weights = [Counts['A']/L,Counts['C']/L,Counts['G']/L,Counts['U']/L]\n",
    "        if proportion_seq_mutate == 1.0:\n",
    "            random_seq = list(s).copy()\n",
    "            random.shuffle(random_seq)\n",
    "        else:\n",
    "            random_seq = mutate_dna(s, int(proportion_seq_mutate*L))\n",
    "        present_s = proportion_kmers_present(s,kmers_of_interest)\n",
    "        present_random = proportion_kmers_present(random_seq,kmers_of_interest)\n",
    "        # print(total_seqs,end='\\r') # progress tracker\n",
    "        if present_s > Decision_Boundary: # True positive\n",
    "            TP += 1\n",
    "        elif present_s <= Decision_Boundary: # False negative\n",
    "            FN += 1\n",
    "        if present_random > Decision_Boundary: # False positive\n",
    "            FP += 1\n",
    "        elif present_random <= Decision_Boundary: # True negative\n",
    "            TN += 1\n",
    "        if total_seqs == 10000:\n",
    "            break\n",
    "    \n",
    "    print(Decision_Boundary,total_seqs,proportion_seq_mutate,TP,TN,FP,FN)\n",
    "\n",
    "# print(f\"Real sequences marked as read (True Positive): {TP}\")\n",
    "# print(f\"Random sequences marked as fake (True Negative): {TN}\")\n",
    "# print(f\"Random sequences marked as real (False Positive): {FP}\")\n",
    "# print(f\"Real sequences marked as fake (False Negative): {FN}\")"
   ]
  },
  {
   "cell_type": "code",
   "execution_count": 101,
   "id": "97569e30",
   "metadata": {
    "scrolled": true
   },
   "outputs": [
    {
     "name": "stdout",
     "output_type": "stream",
     "text": [
      "1\r",
      "2\r",
      "3\r",
      "4\r",
      "5\r",
      "6\r",
      "7\r",
      "8\r",
      "9\r",
      "10\r"
     ]
    }
   ],
   "source": [
    "# Program generates boxplots for frequency of observing each k-mer in 16S sequences\n",
    "\n",
    "klen = 7\n",
    "\n",
    "possible_kmers = [''.join(k) for k in itertools.product(\"ACGU\", repeat=klen)]\n",
    "total_seqs = 0\n",
    "\n",
    "with open(\"16S_rRNA_kmer_count_matrix.txt\",'w') as out:\n",
    "    out.write('SeqID\\tState\\tFreq_A\\tFreq_C\\tFreq_G\\tFreq_U\\t'+'\\t'.join(possible_kmers)+'\\n')\n",
    "    for h,i in enumerate(SeqIO.parse(f,'fasta')):\n",
    "        id,d,s,L = str(i.id),str(i.description),str(i.seq).upper().replace('T','U'),len(i.seq)\n",
    "        if 'eukaryota' in d.lower(): continue\n",
    "        Counts = Counter(s)\n",
    "        weights = [Counts['A']/L,Counts['C']/L,Counts['G']/L,Counts['U']/L]\n",
    "        total_seqs += 1\n",
    "        random_seq = list(s).copy()\n",
    "        random.shuffle(random_seq)\n",
    "        weights = '\\t'.join(weights)\n",
    "        total_possible_kmers = L - klen + 1\n",
    "        s_kmers_print,s_kmers = get_kmers(s,klen,total_possible_kmers,possible_kmers)\n",
    "        random_kmers_print,random_kmers = get_kmers(random_seq,klen,total_possible_kmers,possible_kmers)\n",
    "        # diff = sum((s_kmers - random_kmers))/len(random_kmers)\n",
    "        # print(diff)\n",
    "        out.write(f\"{d}\\t{'natural'}\\t{weights}\\t{s_kmers_print}\\n\")\n",
    "        out.write(f\"{d}\\t{'random_weighted_seq'}\\t{weights}\\t{random_kmers_print}\\n\")\n",
    "        print(total_seqs,end='\\r')\n",
    "        if total_seqs == 10: break\n"
   ]
  },
  {
   "cell_type": "code",
   "execution_count": null,
   "id": "894cbd64",
   "metadata": {},
   "outputs": [],
   "source": []
  }
 ],
 "metadata": {
  "kernelspec": {
   "display_name": "Python 3",
   "language": "python",
   "name": "python3"
  },
  "language_info": {
   "codemirror_mode": {
    "name": "ipython",
    "version": 3
   },
   "file_extension": ".py",
   "mimetype": "text/x-python",
   "name": "python",
   "nbconvert_exporter": "python",
   "pygments_lexer": "ipython3",
   "version": "3.8.2"
  }
 },
 "nbformat": 4,
 "nbformat_minor": 5
}
